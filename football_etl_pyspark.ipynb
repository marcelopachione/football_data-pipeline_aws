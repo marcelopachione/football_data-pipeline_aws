{
  "cells": [
    {
      "cell_type": "markdown",
      "metadata": {
        "id": "capfZ6S-Cw7X"
      },
      "source": [
        "# ETL - Api Football"
      ]
    },
    {
      "cell_type": "code",
      "source": [
        "!pip install pandas\n",
        "!pip install numpy\n",
        "!pip install pprintpp\n",
        "!pip install requests"
      ],
      "metadata": {
        "id": "qxJ8MQGSTJlG"
      },
      "execution_count": null,
      "outputs": []
    },
    {
      "cell_type": "code",
      "source": [
        "import requests\n",
        "import json\n",
        "\n",
        "# Save leagues into a json file\n",
        "url = \"https://api-football-v1.p.rapidapi.com/v3/leagues\"\n",
        "\n",
        "headers = {\n",
        "\t\"X-RapidAPI-Key\": \"81016ac729mshd42ae2fc25f8821p107a85jsn3fb584730546\",\n",
        "\t\"X-RapidAPI-Host\": \"api-football-v1.p.rapidapi.com\"\n",
        "}\n",
        "\n",
        "response = requests.get(url, headers=headers).json()\n",
        "\n",
        "with open(\"leagues.json\", \"w\") as write_file:\n",
        "    json.dump(response, write_file)"
      ],
      "metadata": {
        "id": "rlM2z9NyTSGP"
      },
      "execution_count": null,
      "outputs": []
    },
    {
      "cell_type": "code",
      "source": [
        "# Python read json\n",
        "import pprint   \n",
        "import json\n",
        "  \n",
        "# Opening JSON file\n",
        "leagues = open('/content/leagues.json')\n",
        "  \n",
        "# returns JSON object as a dictionary\n",
        "data = json.load(leagues)\n",
        "  \n",
        "# Iterating through the json\n",
        "for league in leagues:\n",
        "  pprint.pprint(data)\n",
        "  \n",
        "# Closing file\n",
        "#leagues.close()"
      ],
      "metadata": {
        "id": "QoGGjg9LVNIz"
      },
      "execution_count": null,
      "outputs": []
    },
    {
      "cell_type": "code",
      "source": [
        "# Python read json\n",
        "import pprint   \n",
        "import json\n",
        "\n",
        "with open('leagues.json') as leagues_file:\n",
        "   leagues = json.load(leagues_file)\n",
        "\n",
        "for league in leagues:\n",
        "  pprint.pprint(data['response'][10])"
      ],
      "metadata": {
        "id": "1_qLjs4aWQid"
      },
      "execution_count": null,
      "outputs": []
    }
  ],
  "metadata": {
    "language_info": {
      "name": "python"
    },
    "orig_nbformat": 4,
    "colab": {
      "provenance": []
    },
    "kernelspec": {
      "name": "python3",
      "display_name": "Python 3"
    },
    "gpuClass": "standard"
  },
  "nbformat": 4,
  "nbformat_minor": 0
}