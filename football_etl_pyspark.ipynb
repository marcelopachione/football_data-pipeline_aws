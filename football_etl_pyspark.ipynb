{
  "cells": [
    {
      "cell_type": "markdown",
      "source": [
        "# Install Spark Google Colab\n"
      ],
      "metadata": {
        "id": "qmyCGH8_I0Tn"
      }
    },
    {
      "cell_type": "markdown",
      "source": [
        "---"
      ],
      "metadata": {
        "id": "eM2pNfsmI72m"
      }
    },
    {
      "cell_type": "code",
      "source": [
        "# Connecting Drive to Colab\n",
        "from google.colab import drive\n",
        "drive.mount('/content/drive')\n",
        "\n",
        "# Setting up PySpark in Colab\n",
        "# 1. First task is to download Java.\n",
        "!apt-get install openjdk-8-jdk-headless -qq > /dev/null\n",
        "\n",
        "# 2. Install Apache Spark\n",
        "!wget -q https://dlcdn.apache.org/spark/spark-3.4.0/spark-3.4.0-bin-hadoop3.tgz\n",
        "\n",
        "!tar -xzvf /content/spark-3.4.0-bin-hadoop3.tgz\n",
        "\n",
        "# 3. Install and that is the findspark library. It will locate Spark on the system and import it as a regular library.\n",
        "!pip install -q findspark\n",
        "\n",
        "# 4. set the environment path. \n",
        "import os\n",
        "os.environ[\"JAVA_HOME\"] = \"/usr/lib/jvm/java-8-openjdk-amd64\"\n",
        "os.environ[\"SPARK_HOME\"] = \"/content/spark-3.4.0-bin-hadoop3\"\n",
        "\n",
        "# 5. We need to locate Spark in the system. For that, we import findspark and use the findspark.init() method.\n",
        "import findspark\n",
        "findspark.init('spark-3.4.0-bin-hadoop3')\n",
        "\n",
        "# 6. Now, we can import SparkSession from pyspark.sql and create a SparkSession, which is the entry point to Spark.\n",
        "from pyspark.sql import SparkSession\n",
        "\n",
        "spark = SparkSession.builder\\\n",
        "        .master(\"local\")\\\n",
        "        .appName(\"Colab\")\\\n",
        "        .config('spark.ui.port', '4050')\\\n",
        "        .getOrCreate()\n",
        "\n",
        "spark\n",
        "\n",
        "!rm /content/spark-3.4.0-bin-hadoop3.tgz"
      ],
      "metadata": {
        "id": "RcPLFN9vIYmF"
      },
      "execution_count": null,
      "outputs": []
    },
    {
      "cell_type": "markdown",
      "metadata": {
        "id": "capfZ6S-Cw7X"
      },
      "source": [
        "# ETL - Api Football"
      ]
    },
    {
      "cell_type": "code",
      "source": [
        "# Install packages\n",
        "!pip install pandas\n",
        "!pip install numpy\n",
        "!pip install pprintpp\n",
        "!pip install requests"
      ],
      "metadata": {
        "id": "qxJ8MQGSTJlG"
      },
      "execution_count": null,
      "outputs": []
    },
    {
      "cell_type": "code",
      "source": [
        "# Import packages\n",
        "import requests\n",
        "import json\n",
        "import pandas as pd"
      ],
      "metadata": {
        "id": "r19KcF7GPumZ"
      },
      "execution_count": null,
      "outputs": []
    },
    {
      "cell_type": "code",
      "source": [
        "# docs\n",
        "# https://rapidapi.com/api-sports/api/api-football/\n",
        "# https://www.api-football.com/documentation-v3\n",
        "\n",
        "# Save leagues into a json file\n",
        "url = \"https://api-football-v1.p.rapidapi.com/v3/leagues\"\n",
        "\n",
        "headers = {\n",
        "\t\"X-RapidAPI-Key\": \"81016ac729mshd42ae2fc25f8821p107a85jsn3fb584730546\",\n",
        "\t\"X-RapidAPI-Host\": \"api-football-v1.p.rapidapi.com\"\n",
        "}\n",
        "\n",
        "response = requests.get(url, headers=headers).json()\n",
        "\n",
        "with open(\"leagues.json\", \"w\") as write_file:\n",
        "    json.dump(response, write_file)"
      ],
      "metadata": {
        "id": "rlM2z9NyTSGP"
      },
      "execution_count": null,
      "outputs": []
    },
    {
      "cell_type": "code",
      "source": [
        "# Load json file into leagues variable\n",
        "with open('leagues.json','r') as leagues_file:\n",
        "  leagues = json.load(leagues_file)\n",
        "\n",
        "league_list = []\n",
        "for league in leagues['response']:\n",
        "  league_id = league['league']['id']\n",
        "  league_name = league['league']['name']\n",
        "  league_element = {\n",
        "      'league_id' : league_id,\n",
        "      'league_name' :league_name\n",
        "  }\n",
        "\n",
        "  league_list.append(league_element)\n",
        "\n",
        "league_df = pd.DataFrame.from_dict(league_list)\n",
        "\n",
        "league_df"
      ],
      "metadata": {
        "id": "lo9OoMYIxD76"
      },
      "execution_count": null,
      "outputs": []
    },
    {
      "cell_type": "code",
      "source": [
        "url = \"https://api-football-v1.p.rapidapi.com/v3/teams/countries\"\n",
        "\n",
        "headers = {\n",
        "\t\"X-RapidAPI-Key\": \"81016ac729mshd42ae2fc25f8821p107a85jsn3fb584730546\",\n",
        "\t\"X-RapidAPI-Host\": \"api-football-v1.p.rapidapi.com\"\n",
        "}\n",
        "\n",
        "response = requests.get(url, headers=headers)\n",
        "\n",
        "pprint.pprint(response.json())"
      ],
      "metadata": {
        "id": "E_68ca_A7DdO"
      },
      "execution_count": null,
      "outputs": []
    }
  ],
  "metadata": {
    "language_info": {
      "name": "python"
    },
    "orig_nbformat": 4,
    "colab": {
      "provenance": []
    },
    "kernelspec": {
      "name": "python3",
      "display_name": "Python 3"
    },
    "gpuClass": "standard"
  },
  "nbformat": 4,
  "nbformat_minor": 0
}